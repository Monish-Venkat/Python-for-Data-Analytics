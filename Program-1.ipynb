{
 "cells": [
  {
   "cell_type": "markdown",
   "id": "018e2cec-792c-45a8-91b6-86543528dd50",
   "metadata": {},
   "source": [
    "'''\n",
    "Program-1 \n",
    "Write a python program to find sum of n natural numbers using recursive\n",
    "function.'''"
   ]
  },
  {
   "cell_type": "code",
   "execution_count": 2,
   "id": "ae3875bf-a1d5-4b0c-810b-87b395af5547",
   "metadata": {},
   "outputs": [
    {
     "name": "stdin",
     "output_type": "stream",
     "text": [
      "Enter a number:  5\n"
     ]
    },
    {
     "name": "stdout",
     "output_type": "stream",
     "text": [
      "The sum of5 natural number is : 15\n"
     ]
    }
   ],
   "source": [
    "def sum(n):\n",
    "    if n<=1:\n",
    "        return n\n",
    "    else:\n",
    "        return n + sum(n-1)\n",
    "n=int(input(\"Enter a number: \"))\n",
    "if n<1:\n",
    "    print(\"The number should be positive integer: \")\n",
    "else:\n",
    "    print(f\"The sum of {n} natural number is : {sum(n)}\")"
   ]
  }
 ],
 "metadata": {
  "kernelspec": {
   "display_name": "Python 3 (ipykernel)",
   "language": "python",
   "name": "python3"
  },
  "language_info": {
   "codemirror_mode": {
    "name": "ipython",
    "version": 3
   },
   "file_extension": ".py",
   "mimetype": "text/x-python",
   "name": "python",
   "nbconvert_exporter": "python",
   "pygments_lexer": "ipython3",
   "version": "3.11.7"
  }
 },
 "nbformat": 4,
 "nbformat_minor": 5
}
