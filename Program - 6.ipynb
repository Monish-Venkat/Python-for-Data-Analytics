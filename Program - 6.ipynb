{
 "cells": [
  {
   "cell_type": "markdown",
   "id": "5204bd2d-1e52-45bb-8633-b0e5413ef2ff",
   "metadata": {},
   "source": [
    "'''\n",
    "Program - 6 \n",
    "Design and Implement a Python Program to perform addition, subtraction,\n",
    "multiplication of two complex numbers using binary operators overloading.\n",
    "'''"
   ]
  },
  {
   "cell_type": "code",
   "execution_count": 1,
   "id": "c3b13586-3a11-4478-8c14-76074963feed",
   "metadata": {},
   "outputs": [
    {
     "name": "stdout",
     "output_type": "stream",
     "text": [
      "Addition: 4 + 9i\n",
      "Subtraction: 2 + -5i\n",
      "Multiplication: -11 + 23i\n"
     ]
    }
   ],
   "source": [
    "class Complex:\n",
    "    def __init__(self, real, imag):\n",
    "        self.real = real\n",
    "        self.imag = imag\n",
    "\n",
    "    # Overloading the addition operator\n",
    "    def __add__(self, other):\n",
    "        return Complex(self.real + other.real, self.imag + other.imag)\n",
    "\n",
    "    # Overloading the subtraction operator\n",
    "    def __sub__(self, other):\n",
    "        return Complex(self.real - other.real, self.imag - other.imag)\n",
    "\n",
    "    # Overloading the multiplication operator\n",
    "    def __mul__(self, other):\n",
    "        real_part = self.real * other.real - self.imag * other.imag\n",
    "        imag_part = self.real * other.imag + self.imag * other.real\n",
    "        return Complex(real_part, imag_part)\n",
    "\n",
    "    def __str__(self):\n",
    "        return f\"{self.real} + {self.imag}i\"\n",
    "\n",
    "# Example usage\n",
    "c1 = Complex(3, 2)\n",
    "c2 = Complex(1, 7)\n",
    "\n",
    "print(\"Addition:\", c1 + c2)\n",
    "print(\"Subtraction:\", c1 - c2)\n",
    "print(\"Multiplication:\", c1 * c2)\n"
   ]
  }
 ],
 "metadata": {
  "kernelspec": {
   "display_name": "Python 3 (ipykernel)",
   "language": "python",
   "name": "python3"
  },
  "language_info": {
   "codemirror_mode": {
    "name": "ipython",
    "version": 3
   },
   "file_extension": ".py",
   "mimetype": "text/x-python",
   "name": "python",
   "nbconvert_exporter": "python",
   "pygments_lexer": "ipython3",
   "version": "3.11.7"
  }
 },
 "nbformat": 4,
 "nbformat_minor": 5
}
