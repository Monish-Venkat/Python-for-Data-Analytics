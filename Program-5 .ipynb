{
 "cells": [
  {
   "cell_type": "markdown",
   "id": "30ab62d8-f3fa-4fad-9838-11d66e8b2f01",
   "metadata": {},
   "source": [
    "'''\n",
    "Program-5 \n",
    "Demonstrate the concept of Method Resolution order in multiple inheritancein\n",
    "Python Program'''"
   ]
  },
  {
   "cell_type": "code",
   "execution_count": 1,
   "id": "88024be1-a89a-4aa4-9fe3-a1ba6e63ff0d",
   "metadata": {},
   "outputs": [
    {
     "name": "stdout",
     "output_type": "stream",
     "text": [
      "Method in B\n",
      "(<class '__main__.D'>, <class '__main__.B'>, <class '__main__.C'>, <class '__main__.A'>, <class 'object'>)\n"
     ]
    }
   ],
   "source": [
    "class A:\n",
    "    def method(self):\n",
    "        print(\"Method in A\")\n",
    "\n",
    "class B(A):\n",
    "    def method(self):\n",
    "        print(\"Method in B\")\n",
    "\n",
    "class C(A):\n",
    "    def method(self):\n",
    "        print(\"Method in C\")\n",
    "\n",
    "class D(B, C):\n",
    "    pass\n",
    "\n",
    "# Creating an instance of class D\n",
    "d = D()\n",
    "d.method()\n",
    "\n",
    "# Displaying the Method Resolution Order\n",
    "print(D.__mro__)\n"
   ]
  }
 ],
 "metadata": {
  "kernelspec": {
   "display_name": "Python 3 (ipykernel)",
   "language": "python",
   "name": "python3"
  },
  "language_info": {
   "codemirror_mode": {
    "name": "ipython",
    "version": 3
   },
   "file_extension": ".py",
   "mimetype": "text/x-python",
   "name": "python",
   "nbconvert_exporter": "python",
   "pygments_lexer": "ipython3",
   "version": "3.11.7"
  }
 },
 "nbformat": 4,
 "nbformat_minor": 5
}
