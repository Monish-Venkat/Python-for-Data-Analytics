{
 "cells": [
  {
   "cell_type": "markdown",
   "id": "c6255e4a-ae2c-4126-a7c7-339f9290f656",
   "metadata": {},
   "source": [
    "'''\n",
    "PROGRAM 2 - Write a Python Program to Create a Dictionary with Key as First Character and Value\n",
    "            as Words Starting with that Character'''"
   ]
  },
  {
   "cell_type": "code",
   "execution_count": 5,
   "id": "74268736-c66a-4071-8aa7-2885cfc438cd",
   "metadata": {},
   "outputs": [
    {
     "name": "stdout",
     "output_type": "stream",
     "text": [
      "{'a': ['apple', 'apricot', 'avocado'], 'b': ['banana', 'blueberry'], 'c': ['cherry']}\n"
     ]
    }
   ],
   "source": [
    "def create_dict(words):\n",
    "    result = {}\n",
    "    for word in words:\n",
    "        first_char = word[0]\n",
    "        if first_char not in result:\n",
    "            result[first_char] = []\n",
    "        result[first_char].append(word)\n",
    "    return result\n",
    "\n",
    "# Example usage\n",
    "words = [\"apple\", \"banana\", \"apricot\", \"blueberry\", \"cherry\", \"avocado\"]\n",
    "dictionary = create_dict(words)\n",
    "print(dictionary)\n"
   ]
  },
  {
   "cell_type": "code",
   "execution_count": null,
   "id": "c9bdb7e8-f5b8-4593-87df-e2a401efec8a",
   "metadata": {},
   "outputs": [],
   "source": []
  }
 ],
 "metadata": {
  "kernelspec": {
   "display_name": "Python 3 (ipykernel)",
   "language": "python",
   "name": "python3"
  },
  "language_info": {
   "codemirror_mode": {
    "name": "ipython",
    "version": 3
   },
   "file_extension": ".py",
   "mimetype": "text/x-python",
   "name": "python",
   "nbconvert_exporter": "python",
   "pygments_lexer": "ipython3",
   "version": "3.11.7"
  }
 },
 "nbformat": 4,
 "nbformat_minor": 5
}
