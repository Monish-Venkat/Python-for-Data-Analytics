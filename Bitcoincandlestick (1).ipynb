{
 "cells": [
  {
   "cell_type": "code",
   "execution_count": 23,
   "id": "148b13e2",
   "metadata": {},
   "outputs": [],
   "source": [
    "\n",
    "from pycoingecko import CoinGeckoAPI\n",
    "import plotly.graph_objs as go\n",
    "import pandas as pd\n",
    "cg = CoinGeckoAPI()\n",
    "bitcoin_data = cg.get_coin_market_chart_by_id(id = 'bitcoin',vs_currency ='inr',days = 15)\n",
    "data = pd.DataFrame(bitcoin_price_data,columns=['TimeStamp','Price'])\n",
    "data['Date'] = pd.to_datetime(data['TimeStamp'], unit='ms')\n",
    "Candlestick_data = data.groupby(data.Date.dt.date).agg({'Price':['min','max','first','last']})\n",
    "fig = go.Figure(data = [go.Candlestick(x = Candlestick_data.index,open = Candlestick_data['Price']['first'],high = Candlestick_data['Price']['max'],\n",
    "                         low=Candlestick_data['Price']['min'],close = Candlestick_data['Price']['last'])])\n",
    "fig.update_layout(xaxis_rangeslider_visible = False,xaxis_title='Date',yaxis_title='Price(INR$)',title ='Bitcoin Candlestick Chart over past 15 days')\n",
    "fig.write_html('bitcoin_candlestick_graph.html')\n"
   ]
  },
  {
   "cell_type": "code",
   "execution_count": 1,
   "id": "817b3aaa",
   "metadata": {},
   "outputs": [],
   "source": [
    "from pycoingecko import CoinGeckoAPI\n",
    "import plotly.graph_objs as go\n",
    "import pandas as pd\n",
    "\n",
    "cg = CoinGeckoAPI()\n",
    "bitcoin_data = cg.get_coin_market_chart_by_id(id='bitcoin', vs_currency='inr', days=15)\n",
    "bitcoin_price_data = bitcoin_data['prices']\n",
    "data = pd.DataFrame(bitcoin_price_data, columns=['TimeStamp', 'Price'])\n",
    "data['Date'] = pd.to_datetime(data['TimeStamp'], unit='ms')\n",
    "Candlestick_data = data.groupby(data.Date.dt.date).agg({'Price':['min','max','first','last']})\n",
    "fig = go.Figure(data = [go.Candlestick(x = Candlestick_data.index,open = Candlestick_data['Price']['first'],high = Candlestick_data['Price']['max'],\n",
    "                         low=Candlestick_data['Price']['min'],close = Candlestick_data['Price']['last'])])\n",
    "fig.update_layout(xaxis_rangeslider_visible = False,xaxis_title='Date',yaxis_title='Price(INR$)',title ='Bitcoin Candlestick Chart over past 15 days')\n",
    "fig.write_html('bitcoin_candlestick_graph2.html')\n"
   ]
  },
  {
   "cell_type": "code",
   "execution_count": null,
   "id": "c6e163f7",
   "metadata": {},
   "outputs": [],
   "source": []
  }
 ],
 "metadata": {
  "kernelspec": {
   "display_name": "Python 3 (ipykernel)",
   "language": "python",
   "name": "python3"
  },
  "language_info": {
   "codemirror_mode": {
    "name": "ipython",
    "version": 3
   },
   "file_extension": ".py",
   "mimetype": "text/x-python",
   "name": "python",
   "nbconvert_exporter": "python",
   "pygments_lexer": "ipython3",
   "version": "3.11.7"
  }
 },
 "nbformat": 4,
 "nbformat_minor": 5
}
