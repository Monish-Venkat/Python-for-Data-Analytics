{
 "cells": [
  {
   "cell_type": "markdown",
   "id": "821021f7-0553-4c34-a8b8-7a1bd5836bcc",
   "metadata": {},
   "source": [
    "'''\n",
    "Program - 4 \n",
    "Design and Develop a Python Program to Append, Delete and DisplayElements of a List Using Classes and Objects.\n",
    "'''"
   ]
  },
  {
   "cell_type": "code",
   "execution_count": 1,
   "id": "8af3cc06-1f28-4f72-b911-ec5c79e3e9ae",
   "metadata": {},
   "outputs": [
    {
     "name": "stdout",
     "output_type": "stream",
     "text": [
      "\n",
      "Menu:\n",
      "1. Append element\n",
      "2. Delete element\n",
      "3. Display elements\n",
      "0. Exit\n"
     ]
    },
    {
     "name": "stdin",
     "output_type": "stream",
     "text": [
      "Enter your choice:  1\n",
      "Enter element to append:  3\n"
     ]
    },
    {
     "name": "stdout",
     "output_type": "stream",
     "text": [
      "Added 3 to the list.\n",
      "\n",
      "Menu:\n",
      "1. Append element\n",
      "2. Delete element\n",
      "3. Display elements\n",
      "0. Exit\n"
     ]
    },
    {
     "name": "stdin",
     "output_type": "stream",
     "text": [
      "Enter your choice:  1\n",
      "Enter element to append:  5\n"
     ]
    },
    {
     "name": "stdout",
     "output_type": "stream",
     "text": [
      "Added 5 to the list.\n",
      "\n",
      "Menu:\n",
      "1. Append element\n",
      "2. Delete element\n",
      "3. Display elements\n",
      "0. Exit\n"
     ]
    },
    {
     "name": "stdin",
     "output_type": "stream",
     "text": [
      "Enter your choice:  1\n",
      "Enter element to append:  7\n"
     ]
    },
    {
     "name": "stdout",
     "output_type": "stream",
     "text": [
      "Added 7 to the list.\n",
      "\n",
      "Menu:\n",
      "1. Append element\n",
      "2. Delete element\n",
      "3. Display elements\n",
      "0. Exit\n"
     ]
    },
    {
     "name": "stdin",
     "output_type": "stream",
     "text": [
      "Enter your choice:  1\n",
      "Enter element to append:  8\n"
     ]
    },
    {
     "name": "stdout",
     "output_type": "stream",
     "text": [
      "Added 8 to the list.\n",
      "\n",
      "Menu:\n",
      "1. Append element\n",
      "2. Delete element\n",
      "3. Display elements\n",
      "0. Exit\n"
     ]
    },
    {
     "name": "stdin",
     "output_type": "stream",
     "text": [
      "Enter your choice:  1\n",
      "Enter element to append:  44\n"
     ]
    },
    {
     "name": "stdout",
     "output_type": "stream",
     "text": [
      "Added 44 to the list.\n",
      "\n",
      "Menu:\n",
      "1. Append element\n",
      "2. Delete element\n",
      "3. Display elements\n",
      "0. Exit\n"
     ]
    },
    {
     "name": "stdin",
     "output_type": "stream",
     "text": [
      "Enter your choice:  2\n",
      "Enter element to delete:  3\n"
     ]
    },
    {
     "name": "stdout",
     "output_type": "stream",
     "text": [
      "Removed 3 from the list.\n",
      "\n",
      "Menu:\n",
      "1. Append element\n",
      "2. Delete element\n",
      "3. Display elements\n",
      "0. Exit\n"
     ]
    },
    {
     "name": "stdin",
     "output_type": "stream",
     "text": [
      "Enter your choice:  3\n"
     ]
    },
    {
     "name": "stdout",
     "output_type": "stream",
     "text": [
      "Current list: ['5', '7', '8', '44']\n",
      "\n",
      "Menu:\n",
      "1. Append element\n",
      "2. Delete element\n",
      "3. Display elements\n",
      "0. Exit\n"
     ]
    },
    {
     "name": "stdin",
     "output_type": "stream",
     "text": [
      "Enter your choice:  0\n"
     ]
    },
    {
     "name": "stdout",
     "output_type": "stream",
     "text": [
      "Exiting...\n"
     ]
    }
   ],
   "source": [
    "class ListManager:\n",
    "    def __init__(self):\n",
    "        self.elements = []\n",
    "\n",
    "    def append_element(self, element):\n",
    "        self.elements.append(element)\n",
    "        print(f\"Added {element} to the list.\")\n",
    "\n",
    "    def delete_element(self, element):\n",
    "        if element in self.elements:\n",
    "            self.elements.remove(element)\n",
    "            print(f\"Removed {element} from the list.\")\n",
    "        else:\n",
    "            print(f\"{element} not found in the list.\")\n",
    "\n",
    "    def display_elements(self):\n",
    "        print(\"Current list:\", self.elements)\n",
    "\n",
    "# Create an instance of ListManager\n",
    "list_manager = ListManager()\n",
    "\n",
    "# Menu-driven interface\n",
    "while True:\n",
    "    print(\"\\nMenu:\")\n",
    "    print(\"1. Append element\")\n",
    "    print(\"2. Delete element\")\n",
    "    print(\"3. Display elements\")\n",
    "    print(\"0. Exit\")\n",
    "    \n",
    "    choice = int(input(\"Enter your choice: \"))\n",
    "    \n",
    "    if choice == 1:\n",
    "        element = input(\"Enter element to append: \")\n",
    "        list_manager.append_element(element)\n",
    "    elif choice == 2:\n",
    "        element = input(\"Enter element to delete: \")\n",
    "        list_manager.delete_element(element)\n",
    "    elif choice == 3:\n",
    "        list_manager.display_elements()\n",
    "    elif choice == 0:\n",
    "        print(\"Exiting...\")\n",
    "        break\n",
    "    else:\n",
    "        print(\"Invalid choice! Please try again.\")\n"
   ]
  }
 ],
 "metadata": {
  "kernelspec": {
   "display_name": "Python 3 (ipykernel)",
   "language": "python",
   "name": "python3"
  },
  "language_info": {
   "codemirror_mode": {
    "name": "ipython",
    "version": 3
   },
   "file_extension": ".py",
   "mimetype": "text/x-python",
   "name": "python",
   "nbconvert_exporter": "python",
   "pygments_lexer": "ipython3",
   "version": "3.11.7"
  }
 },
 "nbformat": 4,
 "nbformat_minor": 5
}
